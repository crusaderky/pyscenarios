{
 "cells": [
  {
   "cell_type": "markdown",
   "metadata": {},
   "source": [
    "# Visualization of tail dependence in copulas"
   ]
  },
  {
   "cell_type": "code",
   "execution_count": null,
   "metadata": {},
   "outputs": [],
   "source": [
    "%matplotlib inline\n",
    "import numpy as np\n",
    "import pandas as pd\n",
    "from pyscenarios.copula import gaussian_copula, t_copula\n",
    "from pyscenarios.stats import tail_dependence\n",
    "from pyscenarios.duck import norm_cdf"
   ]
  },
  {
   "cell_type": "markdown",
   "metadata": {},
   "source": [
    "### Gaussian Copula and Student T Copula"
   ]
  },
  {
   "cell_type": "code",
   "execution_count": null,
   "metadata": {},
   "outputs": [],
   "source": [
    "cov = [[1.0, 0.5],\n",
    "       [0.5, 1.0]]\n",
    "\n",
    "s3 = norm_cdf(t_copula(cov, 3, 100000, rng='Sobol'))\n",
    "s9 = norm_cdf(t_copula(cov, 9, 100000, rng='Sobol'))\n",
    "s999 = norm_cdf(t_copula(cov, 999, 100000, rng='Sobol'))\n",
    "sg = norm_cdf(gaussian_copula(cov, 100000, rng='Sobol'))\n",
    "\n",
    "q = np.arange(.001, 1, .001)\n",
    "d3 = tail_dependence(s3[:, 0], s3[:, 1], q)\n",
    "d9 = tail_dependence(s9[:, 0], s9[:, 1], q)\n",
    "d999 = tail_dependence(s999[:, 0], s999[:, 1], q)\n",
    "dg = tail_dependence(sg[:, 0], sg[:, 1], q)\n",
    "\n",
    "df = pd.DataFrame([d3, d9, d999, dg], columns=q,\n",
    "                  index=['Student T (3df)', 'Student T (9df)', 'Student T (999df)', 'Gaussian']).T\n",
    "df.plot(figsize=(15, 10))"
   ]
  },
  {
   "cell_type": "markdown",
   "metadata": {},
   "source": [
    "### IT Copula"
   ]
  },
  {
   "cell_type": "code",
   "execution_count": null,
   "metadata": {},
   "outputs": [],
   "source": [
    "cov = [[1.0, 0.5, 0.5, 0.5],\n",
    "       [0.5, 1.0, 0.5, 0.5],\n",
    "       [0.5, 0.5, 1.0, 0.5],\n",
    "       [0.5, 0.5, 0.5, 1.0]]\n",
    "\n",
    "s = norm_cdf(t_copula(cov, [3, 3, 999, 999], 100000, rng='Sobol'))\n",
    "\n",
    "d33 = tail_dependence(s[:, 0], s[:, 1], q)\n",
    "d39 = tail_dependence(s[:, 1], s[:, 2], q)\n",
    "d99 = tail_dependence(s[:, 2], s[:, 3], q)\n",
    "\n",
    "df = pd.DataFrame([d33, d39, d99], columns=q, index=['3df vs 3df', '3df vs 999df', '999df vs 999df']).T\n",
    "df.plot(figsize=(15, 10))"
   ]
  }
 ],
 "metadata": {
  "kernelspec": {
   "display_name": "Python 3",
   "language": "python",
   "name": "python3"
  },
  "language_info": {
   "codemirror_mode": {
    "name": "ipython",
    "version": 3
   },
   "file_extension": ".py",
   "mimetype": "text/x-python",
   "name": "python",
   "nbconvert_exporter": "python",
   "pygments_lexer": "ipython3",
   "version": "3.6.5"
  }
 },
 "nbformat": 4,
 "nbformat_minor": 2
}
