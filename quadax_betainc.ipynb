{
 "cells": [
  {
   "cell_type": "code",
   "execution_count": 1,
   "id": "e57992e3-01e8-4da1-a21a-7b5cc102057b",
   "metadata": {},
   "outputs": [],
   "source": [
    "import math\n",
    "from functools import partial\n",
    "\n",
    "import jax.numpy as jnp\n",
    "import jax\n",
    "import numpy as np\n",
    "import quadax\n",
    "from scipy.special import betainc, beta\n",
    "\n",
    "jax.config.update(\"jax_enable_x64\", True)\n",
    "cpu = jax.devices(\"cpu\")[0]\n",
    "gpu = jax.devices(\"gpu\")[0]\n",
    "jax.config.update(\"jax_default_device\", gpu)"
   ]
  },
  {
   "cell_type": "code",
   "execution_count": null,
   "id": "eb4056d5-85c5-4509-bcb0-d2e269419419",
   "metadata": {},
   "outputs": [],
   "source": [
    "a = 4.5\n",
    "b = 0.5\n",
    "x_np = np.random.random((65535, 2))\n",
    "# x_np = np.random.random((1000, 2))\n",
    "x_jnp = jnp.asarray(x_np)\n",
    "x_np"
   ]
  },
  {
   "cell_type": "code",
   "execution_count": null,
   "id": "7f17dd21-a914-4c04-afdf-72cdc5db49a8",
   "metadata": {},
   "outputs": [],
   "source": [
    "baseline = betainc(a, b, x_np)\n",
    "baseline"
   ]
  },
  {
   "cell_type": "code",
   "execution_count": null,
   "id": "5dafd65a-3bf4-418d-96a5-543b81d7aaa9",
   "metadata": {},
   "outputs": [],
   "source": [
    "beta(a, b)"
   ]
  },
  {
   "cell_type": "code",
   "execution_count": null,
   "id": "c8185a72-b554-40f9-908c-22d602b903d7",
   "metadata": {},
   "outputs": [],
   "source": [
    "jax.scipy.special.beta(a, b)"
   ]
  },
  {
   "cell_type": "code",
   "execution_count": null,
   "id": "138ac7b3-9a0e-4c3a-abb2-cb919837e930",
   "metadata": {},
   "outputs": [],
   "source": [
    "deltas = jax.scipy.special.betainc(a, b, x_jnp) - jnp.asarray(baseline)\n",
    "deltas = jnp.take(deltas.reshape((-1, )), jnp.argsort(x_jnp.reshape((-1, ))))\n",
    "jnp.abs(deltas).max()"
   ]
  },
  {
   "cell_type": "code",
   "execution_count": null,
   "id": "40296f78-9dbd-4f3d-b2f2-7783a5242eae",
   "metadata": {},
   "outputs": [],
   "source": [
    "import pandas as pd\n",
    "pd.Series(np.asarray(deltas)).plot()"
   ]
  },
  {
   "cell_type": "code",
   "execution_count": null,
   "id": "c8c3a19c-67de-4127-842b-e0a5fd29c081",
   "metadata": {},
   "outputs": [],
   "source": [
    "@jax.jit\n",
    "def quadax_betainc(a, b, x):\n",
    "    shape = x.shape\n",
    "    x = jnp.reshape(x, (-1, ))\n",
    "    beta_ = jax.scipy.special.beta(a, b)\n",
    "    res = jax.vmap(lambda x: \n",
    "        quadax.quadgk(\n",
    "            lambda t, am1, bm1: t**am1 * (1 - t)**bm1,\n",
    "            interval=(0, x),\n",
    "            args=(a - 1, b - 1),\n",
    "        )[0])(x) / beta_\n",
    "    res = jnp.where((x == 0) | (x == 1), x, res)\n",
    "    res = jnp.where((x < 0) | (x > 1), jnp.nan, res)\n",
    "    return jnp.reshape(res, shape)\n",
    "\n",
    "np.testing.assert_allclose(\n",
    "    jax.scipy.special.betainc(4.5, 0.5, x_jnp),\n",
    "    betainc(a, b, x_np), \n",
    "    rtol=1e-10,\n",
    ")\n",
    "np.testing.assert_allclose(\n",
    "    quadax_betainc(4.5, 0.5, x_jnp),\n",
    "    baseline,\n",
    "    rtol=1e-11,\n",
    ")"
   ]
  },
  {
   "cell_type": "code",
   "execution_count": null,
   "id": "2df308e2-6dc4-4bda-9857-a51291231fdb",
   "metadata": {},
   "outputs": [],
   "source": [
    "%timeit -r 1 betainc(4.5, 0.5, x_np)\n",
    "%timeit -r 1 jax.scipy.special.betainc(4.5, 0.5, x_jnp).block_until_ready()\n",
    "%timeit -r 1 quadax_betainc(4.5, 0.5, x_jnp).block_until_ready()"
   ]
  },
  {
   "cell_type": "code",
   "execution_count": null,
   "id": "3e06aeb2-890e-4146-9373-5dd443a488fa",
   "metadata": {},
   "outputs": [],
   "source": [
    "@partial(jax.jit, static_argnames=\"ncols\")\n",
    "def to_sorted_rect(x, ncols):\n",
    "    x = jnp.reshape(x, (-1, ))\n",
    "    nrows = int(math.ceil(x.size / ncols))\n",
    "    if nrows * ncols > x.size:\n",
    "        y = jnp.empty(nrows * ncols, dtype=x.dtype)\n",
    "        y = y.at[:x.size].set(x)\n",
    "        y = y.at[x.size:].set(x[0])\n",
    "    else:\n",
    "        y = x\n",
    "    y = jnp.reshape(y, (nrows, ncols))\n",
    "    idx = jnp.argsort(y, axis=1)\n",
    "    y = jnp.take_along_axis(y, idx, axis=1)\n",
    "    return y, idx\n",
    "\n",
    "@partial(jax.jit, static_argnames=\"shape\")\n",
    "def from_sorted_rect(x, idx, shape):\n",
    "    revidx = jnp.argsort(idx, axis=1)\n",
    "    x = jnp.take_along_axis(x, revidx, axis=1)\n",
    "    x = jnp.reshape(x, (-1, ))\n",
    "    x = x[:math.prod(shape)]\n",
    "    return jnp.reshape(x, shape)\n",
    "\n",
    "y, idx = to_sorted_rect(x_jnp, 50)\n",
    "assert jnp.all(y[:, 1:] >= y[:, :-1])\n",
    "x2 = from_sorted_rect(y, idx, x_jnp.shape)\n",
    "np.testing.assert_array_equal(x_jnp, x2, strict=True)"
   ]
  },
  {
   "cell_type": "code",
   "execution_count": null,
   "id": "a40405f0-53a4-4de0-80a9-5d50acd35b09",
   "metadata": {},
   "outputs": [],
   "source": [
    "@jax.jit\n",
    "def quadax_betainc_breakpoints(a, b, x):\n",
    "    N_BREAKPOINTS = 50\n",
    "    scratch, idx = to_sorted_rect(x, N_BREAKPOINTS)\n",
    "    scratch = jnp.clip(scratch, 0, 1)\n",
    "    scratch = jnp.concat(\n",
    "        [jnp.zeros((scratch.shape[0], 1), dtype=x.dtype), scratch],\n",
    "        axis=1,\n",
    "    )\n",
    "\n",
    "    y = jax.vmap(lambda interval: \n",
    "        quadax.quadgk(\n",
    "            lambda t, am1, bm1: t**am1 * (1 - t)**bm1,\n",
    "            interval=interval,\n",
    "            args=(a - 1, b - 1),\n",
    "            full_output=True,\n",
    "        )[1].info[\"s_arr\"]\n",
    "    )(scratch)\n",
    "\n",
    "    y = from_sorted_rect(y, idx, x.shape)\n",
    "    y = jnp.where((x == 0) | (x == 1), x, y)\n",
    "    y = jnp.where((x < 0) | (x > 1), jnp.nan, y)\n",
    "    beta_ = jax.scipy.special.beta(a, b)\n",
    "    y = y / beta_\n",
    "    # y = jnp.where((x <= 0) | (x >= .99), jax.scipy.special.betainc(a, b, x), y)\n",
    "    return y\n",
    "\n",
    "actual = quadax_betainc_breakpoints(a, b, x_jnp)\n",
    "np.testing.assert_allclose(actual, baseline, rtol=1e-10)"
   ]
  },
  {
   "cell_type": "code",
   "execution_count": null,
   "id": "a30266cc-f7c0-4d22-8719-cf42ae224247",
   "metadata": {},
   "outputs": [],
   "source": [
    "mask = np.abs(actual - baseline) > 1e-6 * np.abs(baseline)\n",
    "x_np[mask].size, x_np[mask].min()"
   ]
  },
  {
   "cell_type": "code",
   "execution_count": null,
   "id": "d7924d5e-8ae8-440a-9df7-6e1b8c688fab",
   "metadata": {},
   "outputs": [],
   "source": [
    "x_np[mask]"
   ]
  },
  {
   "cell_type": "code",
   "execution_count": null,
   "id": "0c09c5b9-d980-4f47-9689-479d9b394d29",
   "metadata": {},
   "outputs": [],
   "source": [
    "actual[mask]"
   ]
  },
  {
   "cell_type": "code",
   "execution_count": null,
   "id": "53bcbbd5-1d7a-4f1b-8d34-49e9616cdec8",
   "metadata": {},
   "outputs": [],
   "source": [
    "baseline[mask]"
   ]
  },
  {
   "cell_type": "code",
   "execution_count": null,
   "id": "c12707ef-db8f-407c-a0ce-3cb9f679d2ad",
   "metadata": {},
   "outputs": [],
   "source": [
    "%timeit -r 1 quadax_betainc_breakpoints(a, b, x_jnp).block_until_ready()"
   ]
  },
  {
   "cell_type": "code",
   "execution_count": null,
   "id": "0dc61a2f-46dd-4935-8f2d-eb093dc81431",
   "metadata": {},
   "outputs": [],
   "source": [
    "def to_sorted(x):\n",
    "    x = jnp.reshape(x, (-1, ))\n",
    "    idx = jnp.argsort(x)\n",
    "    x = jnp.take(x, idx)\n",
    "    return x, idx\n",
    "\n",
    "def from_sorted(x, idx, shape):\n",
    "    revidx = jnp.argsort(idx)\n",
    "    x = jnp.take(x, revidx)\n",
    "    return jnp.reshape(x, shape)\n",
    "\n",
    "y, idx = to_sorted(x_jnp)\n",
    "assert jnp.all(y[1:] >= y[:-1])\n",
    "x2 = from_sorted(y, idx, x_jnp.shape)\n",
    "np.testing.assert_array_equal(x_jnp, x2, strict=True)"
   ]
  },
  {
   "cell_type": "code",
   "execution_count": null,
   "id": "77bf0c99-4b00-42a8-8468-c66f3412a6c8",
   "metadata": {},
   "outputs": [],
   "source": [
    "@jax.jit\n",
    "def quadax_betainc_cumulative(a, b, x):\n",
    "    shape = x.shape\n",
    "    stop, idx = to_sorted(x)\n",
    "    start = jnp.roll(stop, 1).at[0].set(0)\n",
    "    am1 = a - 1\n",
    "    bm1 = b - 1\n",
    "\n",
    "    @jax.vmap\n",
    "    def partial_integral(start, stop):\n",
    "        return quadax.quadgk(\n",
    "            lambda t: t**am1 * (1 - t)**bm1,\n",
    "            interval=(start, stop),\n",
    "        )[0]\n",
    "\n",
    "    partials = partial_integral(start, stop)\n",
    "    cums = jnp.cumsum(partials)\n",
    "    beta_ = jax.scipy.special.beta(a, b)\n",
    "    res = cums / beta_\n",
    "\n",
    "    return from_sorted(res, idx, x.shape)\n",
    "\n",
    "\n",
    "np.testing.assert_allclose(\n",
    "    quadax_betainc_cumulative(a, b, x_jnp),\n",
    "    baseline,\n",
    "    rtol=1e-10,\n",
    ")"
   ]
  },
  {
   "cell_type": "code",
   "execution_count": null,
   "id": "757194ee-15db-4324-acd8-0d95803e8ca2",
   "metadata": {},
   "outputs": [],
   "source": [
    "%timeit -r 1 quadax_betainc_cumulative(a, b, x_jnp).block_until_ready()"
   ]
  },
  {
   "cell_type": "code",
   "execution_count": null,
   "id": "69aee1e6-40fb-4fb3-808d-1b47fd2db876",
   "metadata": {},
   "outputs": [],
   "source": [
    "@jax.jit\n",
    "def quadax_betainc_vec(a, b, x):\n",
    "    xc = jnp.clip(x, 0, 1)\n",
    "    y, info = quadax.quadgk(\n",
    "        lambda t, x, am1, bm1: (t * x)**am1 * (1 - t * x)**bm1 * x,\n",
    "        interval=(0, 1),\n",
    "        args=(x, a - 1, b - 1),\n",
    "        #max_ninter=20,\n",
    "        order=15,\n",
    "    )\n",
    "    beta_ = jax.scipy.special.beta(a, b)\n",
    "    y /= beta_\n",
    "    return jnp.where((x < 0) | (x > 1), jnp.nan, y), info\n",
    "\n",
    "actual, info = quadax_betainc_vec(a, b, x_jnp)\n",
    "np.testing.assert_allclose(actual, baseline, rtol=1e-10)\n",
    "print(info)"
   ]
  },
  {
   "cell_type": "code",
   "execution_count": null,
   "id": "c47204e0-8e21-4a1f-b2a5-06cefa0142e7",
   "metadata": {},
   "outputs": [],
   "source": [
    "%timeit -r 1 quadax_betainc_vec(a, b, x_jnp)[0].block_until_ready()"
   ]
  },
  {
   "cell_type": "code",
   "execution_count": null,
   "id": "209451d6-86c4-4cbd-9a0b-5876d39d5dd1",
   "metadata": {},
   "outputs": [],
   "source": [
    "def to_rect(x, ncols):\n",
    "    x = jnp.reshape(x, (-1, ))\n",
    "    nrows = int(math.ceil(x.size / ncols))\n",
    "    if nrows * ncols > x.size:\n",
    "        y = jnp.empty(nrows * ncols, dtype=x.dtype)\n",
    "        y = y.at[:x.size].set(x)\n",
    "        y = y.at[x.size:].set(x[0])\n",
    "    else:\n",
    "        y = x\n",
    "    return jnp.reshape(y, (nrows, ncols))\n",
    "\n",
    "def from_rect(x, shape):\n",
    "    x = jnp.reshape(x, (-1, ))\n",
    "    x = x[:math.prod(shape)]\n",
    "    return jnp.reshape(x, shape)\n",
    "\n",
    "y = to_rect(x_jnp, 50)\n",
    "x2 = from_rect(y, x_jnp.shape)\n",
    "np.testing.assert_array_equal(x_jnp, x2, strict=True)"
   ]
  },
  {
   "cell_type": "code",
   "execution_count": null,
   "id": "6e3ffb0f-375b-45fa-95ff-c9991d39429f",
   "metadata": {},
   "outputs": [],
   "source": [
    "@jax.jit\n",
    "def quadax_betainc_vec_chunked(a, b, x):\n",
    "    CHUNK_SIZE = 32\n",
    "    scratch, idx = to_sorted_rect(x, CHUNK_SIZE)\n",
    "\n",
    "    am1 = a - 1\n",
    "    bm1 = b - 1\n",
    "    y = jax.vmap(lambda x: quadax.quadgk(\n",
    "        lambda t, x, am1, bm1: (t * x)**am1 * (1 - t * x)**bm1 * x,\n",
    "        interval=(0, 1),\n",
    "        args=(x, am1, bm1),\n",
    "    )[0])(scratch)\n",
    "    y = from_sorted_rect(y, idx, x.shape)\n",
    "    y = jnp.where((x == 0) | (x == 1), x, y)\n",
    "    y = jnp.where((x < 0) | (x > 1), jnp.nan, y)\n",
    "    beta_ = jax.scipy.special.beta(a, b)\n",
    "    return y / beta_\n",
    "\n",
    "actual = quadax_betainc_vec_chunked(a, b, x_jnp)\n",
    "np.testing.assert_allclose(actual, baseline, rtol=1e-10)"
   ]
  },
  {
   "cell_type": "code",
   "execution_count": null,
   "id": "2b27fa7a-e9d6-4beb-ae56-e3bd15ed896b",
   "metadata": {},
   "outputs": [],
   "source": [
    "%timeit -r 1 quadax_betainc_vec_chunked(a, b, x_jnp).block_until_ready()"
   ]
  },
  {
   "cell_type": "code",
   "execution_count": null,
   "id": "bef39238-7bc7-4427-a97a-5730a6ae8549",
   "metadata": {},
   "outputs": [],
   "source": [
    "@partial(jax.jit, static_argnames=\"n\")\n",
    "def simpson_betainc(a, b, x, n):\n",
    "    beta_ = jax.scipy.special.beta(a, b)\n",
    "    ndim = len(jnp.broadcast_shapes(jnp.shape(a), jnp.shape(b), jnp.shape(x)))\n",
    "    t = jnp.linspace(0, 1, 2**n - 1)\n",
    "    t = jnp.reshape(t, (-1, *(1, ) * ndim))\n",
    "    y = (t * x)**(a - 1) * (1 - t * x)**(b - 1) * x\n",
    "    y = quadax.simpson(y, x=t, axis=0)\n",
    "    return y / beta_\n",
    "\n",
    "idx = jnp.argsort(jnp.reshape(x_jnp, (-1)))\n",
    "yi = {}\n",
    "for n in range(10, 13):\n",
    "    y = simpson_betainc(a, b, x_jnp, n=n)\n",
    "    deltas = jnp.take(jnp.reshape(y - baseline, (-1, )), idx)\n",
    "    yi[2**n] = deltas"
   ]
  },
  {
   "cell_type": "code",
   "execution_count": null,
   "id": "5d7b7969-6cbb-4ebb-8162-5a1b4b54da04",
   "metadata": {},
   "outputs": [],
   "source": [
    "%timeit -r 1 simpson_betainc(a, b, x_jnp, n=12).block_until_ready()"
   ]
  },
  {
   "cell_type": "code",
   "execution_count": null,
   "id": "d2610382-5cb1-4db6-9db2-f7d877b2e80f",
   "metadata": {},
   "outputs": [],
   "source": [
    "import pandas\n",
    "df = pandas.DataFrame([np.asarray(v) for v in yi.values()], index=yi).T\n",
    "df.columns.name = \"n\"\n",
    "df.index = np.sort(x_np.reshape(-1))\n",
    "df\n",
    "df.plot(logy=True)"
   ]
  },
  {
   "cell_type": "code",
   "execution_count": null,
   "id": "0096a69e-f80d-4743-902b-d4b6f548e53b",
   "metadata": {},
   "outputs": [],
   "source": [
    "df.max(axis=0)"
   ]
  },
  {
   "cell_type": "code",
   "execution_count": null,
   "id": "b6f12b5f-7fe4-4409-a1f3-59a966fe3e06",
   "metadata": {},
   "outputs": [],
   "source": [
    "@partial(jax.jit, static_argnames=\"n\")\n",
    "def flatsimpson_betainc(a, b, x, n):\n",
    "    beta_ = jax.scipy.special.beta(a, b)\n",
    "    xflat = jnp.reshape(x, (-1, ))\n",
    "    xflat = jnp.clip(xflat, 0, 1)\n",
    "    t = jnp.linspace(0, jnp.max(xflat), 2**n)\n",
    "    tmix = jnp.concat([t, xflat])\n",
    "    tmix, revidx = jnp.unique_inverse(tmix, size=tmix.size, fill_value=jnp.nan)\n",
    "    ymix = tmix**(a - 1) * (1 - tmix)**(b - 1)\n",
    "    yimix = quadax.cumulative_simpson(ymix, x=tmix)\n",
    "    yi = jnp.take(yimix, revidx[2**n:])\n",
    "    yi = jnp.reshape(yi, x.shape)\n",
    "    return yi / beta_\n",
    "\n",
    "yi = {}\n",
    "for n in range(10, 18):\n",
    "    y = flatsimpson_betainc(a, b, x_jnp, n=n)\n",
    "    deltas = jnp.take(jnp.reshape(y - baseline, (-1, )), idx)\n",
    "    yi[2**n] = deltas"
   ]
  },
  {
   "cell_type": "code",
   "execution_count": null,
   "id": "7ddffa5c-d6d2-4528-ab94-d284e8a04a1a",
   "metadata": {},
   "outputs": [],
   "source": [
    "import pandas\n",
    "df = pandas.DataFrame([np.asarray(v) for v in yi.values()], index=yi).T\n",
    "df.columns.name = \"n\"\n",
    "df.index = np.sort(x_np.reshape(-1))\n",
    "df\n",
    "df.plot(logy=True)"
   ]
  },
  {
   "cell_type": "code",
   "execution_count": null,
   "id": "6fcb41a3-64e0-46dc-9a2d-bafcc9e0644e",
   "metadata": {},
   "outputs": [],
   "source": [
    "df.max(axis=0)"
   ]
  },
  {
   "cell_type": "code",
   "execution_count": null,
   "id": "b1a1c9e0-00e9-4cda-8737-74a2c288840d",
   "metadata": {},
   "outputs": [],
   "source": []
  }
 ],
 "metadata": {
  "kernelspec": {
   "display_name": "Python 3 (ipykernel)",
   "language": "python",
   "name": "python3"
  },
  "language_info": {
   "codemirror_mode": {
    "name": "ipython",
    "version": 3
   },
   "file_extension": ".py",
   "mimetype": "text/x-python",
   "name": "python",
   "nbconvert_exporter": "python",
   "pygments_lexer": "ipython3",
   "version": "3.12.10"
  }
 },
 "nbformat": 4,
 "nbformat_minor": 5
}
