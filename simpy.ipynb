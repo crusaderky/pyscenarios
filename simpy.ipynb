{
 "cells": [
  {
   "cell_type": "code",
   "execution_count": 201,
   "id": "add560d4-054c-485b-80cf-a46200e3832c",
   "metadata": {},
   "outputs": [
    {
     "data": {
      "text/latex": [
       "$\\displaystyle \\frac{- 0^{a} + x^{a} {{}_{2}F_{1}\\left(\\begin{matrix} a, 1 - b \\\\ a + 1 \\end{matrix}\\middle| {x e^{2 i \\pi}} \\right)}}{a}$"
      ],
      "text/plain": [
       "(-0**a + x**a*hyper((a, 1 - b), (a + 1,), x*exp_polar(2*I*pi)))/a"
      ]
     },
     "execution_count": 201,
     "metadata": {},
     "output_type": "execute_result"
    }
   ],
   "source": [
    "import sympy\n",
    "from sympy import Symbol\n",
    "\n",
    "x = Symbol(\"x\")\n",
    "t = Symbol(\"t\")\n",
    "a = Symbol(\"a\")\n",
    "b = Symbol(\"b\")\n",
    "\n",
    "i = sympy.integrate(t**(a - 1) * (1-t)**(b-1), (t, 0, x))\n",
    "i = i.simplify()\n",
    "i"
   ]
  },
  {
   "cell_type": "code",
   "execution_count": 202,
   "id": "ecafdb18-5c5a-4697-9151-f202b3aa38d2",
   "metadata": {},
   "outputs": [],
   "source": [
    "import numpy as np\n",
    "from scipy.special import beta, betainc, gamma, hyp2f1, factorial, poch"
   ]
  },
  {
   "cell_type": "code",
   "execution_count": 203,
   "id": "a503fbbc-fd1b-423e-bc4b-32e72f0eb52c",
   "metadata": {},
   "outputs": [
    {
     "data": {
      "text/plain": [
       "np.float64(0.08112618884584057)"
      ]
     },
     "execution_count": 203,
     "metadata": {},
     "output_type": "execute_result"
    }
   ],
   "source": [
    "a = 4.5\n",
    "b = 0.5\n",
    "x = 0.7\n",
    "y = betainc(a, b, x)\n",
    "y"
   ]
  },
  {
   "cell_type": "code",
   "execution_count": 204,
   "id": "9b6de0ae-3a1a-4310-994b-36d7931fe190",
   "metadata": {},
   "outputs": [
    {
     "data": {
      "text/plain": [
       "np.float64(0.08112618884584055)"
      ]
     },
     "execution_count": 204,
     "metadata": {},
     "output_type": "execute_result"
    }
   ],
   "source": [
    "1 - betainc(b, a, 1 - x)"
   ]
  },
  {
   "cell_type": "code",
   "execution_count": 205,
   "id": "84f97986-0494-4ee0-ba7f-b1b873f89df8",
   "metadata": {},
   "outputs": [
    {
     "data": {
      "text/plain": [
       "np.float64(0.08112618884584066)"
      ]
     },
     "execution_count": 205,
     "metadata": {},
     "output_type": "execute_result"
    }
   ],
   "source": [
    "x**a / a * hyp2f1(a, 1 - b, a + 1, x) / beta(a, b)"
   ]
  },
  {
   "cell_type": "code",
   "execution_count": 206,
   "id": "c9b9b16a-22f2-4dfc-a9f9-4df8b7e844e5",
   "metadata": {},
   "outputs": [
    {
     "data": {
      "text/plain": [
       "np.float64(0.08112618884584066)"
      ]
     },
     "execution_count": 206,
     "metadata": {},
     "output_type": "execute_result"
    }
   ],
   "source": [
    "x**a / a * sum(\n",
    "    poch(a, n) * poch(1 - b, n) / poch(a + 1, n) * x**n / factorial(n)\n",
    "    for n in range(90)\n",
    ") / beta(a, b)"
   ]
  },
  {
   "cell_type": "code",
   "execution_count": 207,
   "id": "7593e1c2-c05a-4ce9-89ad-6a58b0b1fddc",
   "metadata": {},
   "outputs": [
    {
     "data": {
      "text/plain": [
       "np.float64(0.08112618884584066)"
      ]
     },
     "execution_count": 207,
     "metadata": {},
     "output_type": "execute_result"
    }
   ],
   "source": [
    "x**a / a * sum(\n",
    "    gamma(a + n) / gamma(a) * gamma(1 - b + n) / gamma(1 - b) / gamma(a + 1 + n) * gamma(a + 1) / factorial(n) * x**n \n",
    "    for n in range(90)\n",
    ") / beta(a, b)"
   ]
  },
  {
   "cell_type": "code",
   "execution_count": 208,
   "id": "f3d6f105-df4a-405f-94c5-c5e1452383e1",
   "metadata": {},
   "outputs": [
    {
     "data": {
      "text/plain": [
       "np.float64(0.0811261888458407)"
      ]
     },
     "execution_count": 208,
     "metadata": {},
     "output_type": "execute_result"
    }
   ],
   "source": [
    "x**a * gamma(a + 1) * gamma(a + b) / a / gamma(a)**2 / gamma(1 - b) / gamma(b) * sum(\n",
    "    gamma(a + n) * gamma(1 - b + n) / gamma(a + 1 + n) * x**n / factorial(n)\n",
    "    for n in range(90)\n",
    ")"
   ]
  },
  {
   "cell_type": "code",
   "execution_count": 209,
   "id": "3693d240-0195-4bac-b7fe-8967cff12236",
   "metadata": {},
   "outputs": [
    {
     "data": {
      "text/plain": [
       "np.float64(0.0811261888458407)"
      ]
     },
     "execution_count": 209,
     "metadata": {},
     "output_type": "execute_result"
    }
   ],
   "source": [
    "gamma(a + b) / gamma(a) * np.sin(np.pi * b) / np.pi * x**a * sum(\n",
    "    gamma(a + n) * gamma(1 - b + n) / gamma(a + 1 + n) / factorial(n) * x**n\n",
    "    for n in range(90)\n",
    ")"
   ]
  },
  {
   "cell_type": "code",
   "execution_count": 210,
   "id": "0a7d5a43-cc9e-4015-a961-0feb049f1de5",
   "metadata": {},
   "outputs": [
    {
     "data": {
      "text/plain": [
       "np.float64(0.08112618884584069)"
      ]
     },
     "execution_count": 210,
     "metadata": {},
     "output_type": "execute_result"
    }
   ],
   "source": [
    "gamma(a + b) / gamma(a) * np.sin(np.pi * b) / np.pi * x**a * sum(\n",
    "    gamma(n + 1 - b) / gamma(n+1) / (a + n) * x**n\n",
    "    for n in range(90)\n",
    ")"
   ]
  },
  {
   "cell_type": "code",
   "execution_count": 211,
   "id": "e780afe4-7cc8-4226-ae6a-809f6e0a4b1d",
   "metadata": {},
   "outputs": [
    {
     "data": {
      "text/plain": [
       "np.float64(0.08112618884584069)"
      ]
     },
     "execution_count": 211,
     "metadata": {},
     "output_type": "execute_result"
    }
   ],
   "source": [
    "poch(a, b) * np.sin(np.pi * b) / np.pi * x**a * sum(\n",
    "    poch(n + 1, -b) / (a + n) * x**n\n",
    "    for n in range(90)\n",
    ")"
   ]
  },
  {
   "cell_type": "code",
   "execution_count": 216,
   "id": "db6367a9-3443-4c3c-b49c-1af931165d52",
   "metadata": {},
   "outputs": [
    {
     "data": {
      "text/plain": [
       "np.float64(0.08112618884584061)"
      ]
     },
     "execution_count": 216,
     "metadata": {},
     "output_type": "execute_result"
    }
   ],
   "source": [
    "poch(a, b) * np.sin(np.pi * b) / np.pi * sum(\n",
    "    poch(n + 1, -b) / (a + n) * x**(a + n)\n",
    "    for n in range(90)\n",
    ")"
   ]
  },
  {
   "cell_type": "code",
   "execution_count": 199,
   "id": "d97d2a24-0066-4dae-bf84-a06fb7b6077a",
   "metadata": {},
   "outputs": [
    {
     "data": {
      "text/plain": [
       "np.float64(1.1102230246251565e-16)"
      ]
     },
     "execution_count": 199,
     "metadata": {},
     "output_type": "execute_result"
    }
   ],
   "source": [
    "np.finfo(np.float64).eps / 2"
   ]
  },
  {
   "cell_type": "code",
   "execution_count": 244,
   "id": "20ef501f-3602-4a4f-a4c2-185c5d27df4d",
   "metadata": {},
   "outputs": [],
   "source": [
    "def _betainc_approx(a, b, x, niter=200):\n",
    "    m1 = poch(a, b) * np.sin(np.pi * b) / np.pi\n",
    "    print(f\"m1={m1}\")\n",
    "    def m2(n):\n",
    "        res = poch(n + 1, -b) / (a + n)\n",
    "        print(f\"m2({n})={res}\")\n",
    "        return res\n",
    "\n",
    "    return m1 * sum(m2(n) * x**(a + n) for n in range(niter))\n",
    "\n",
    "\n",
    "def betainc_approx(a, b, x, niter=200):\n",
    "    # The continued fraction will converge rapidly when x <\n",
    "    # (a+1)/(a+b+2) as per: http://dlmf.nist.gov/8.17.E23.\n",
    "    #\n",
    "    # Otherwise, we can rewrite using the symmetry relation as per:\n",
    "    # http://dlmf.nist.gov/8.17.E4\n",
    "    converges_rapidly = x < (a + 1) / (a + b + 2)\n",
    "    ar = np.where(converges_rapidly, a, b)\n",
    "    br = np.where(converges_rapidly, b, a)\n",
    "    xr = np.where(converges_rapidly, x, 1 - x)\n",
    "    yr = _betainc_approx(ar, br, xr, niter)\n",
    "    return np.where(converges_rapidly, yr, 1 - yr)"
   ]
  },
  {
   "cell_type": "code",
   "execution_count": 245,
   "id": "71cc1c3f-2636-419a-8fcf-b088423b3c4a",
   "metadata": {},
   "outputs": [
    {
     "data": {
      "text/plain": [
       "np.float64(0.6748712326262112)"
      ]
     },
     "execution_count": 245,
     "metadata": {},
     "output_type": "execute_result"
    }
   ],
   "source": [
    "betainc(9, 0.5, 0.99)"
   ]
  },
  {
   "cell_type": "code",
   "execution_count": 250,
   "id": "2f5522bf-662e-4e18-af70-59c24d7de2cd",
   "metadata": {},
   "outputs": [
    {
     "name": "stdout",
     "output_type": "stream",
     "text": [
      "m1=2.361247732613918e-11\n",
      "m2(0)=inf\n",
      "m2(1)=inf\n",
      "m2(2)=inf\n",
      "m2(3)=inf\n",
      "m2(4)=inf\n",
      "m2(5)=inf\n",
      "m2(6)=inf\n",
      "m2(7)=inf\n",
      "m2(8)=inf\n",
      "m2(9)=2.9007704446300937e-07\n",
      "m2(10)=2.6245065927605612e-08\n",
      "m2(11)=4.356888414859429e-09\n",
      "m2(12)=1.0020843354176686e-09\n",
      "m2(13)=2.854941126546065e-10\n",
      "m2(14)=9.493030839500459e-11\n"
     ]
    },
    {
     "data": {
      "text/plain": [
       "array(-inf)"
      ]
     },
     "execution_count": 250,
     "metadata": {},
     "output_type": "execute_result"
    }
   ],
   "source": [
    "betainc_approx(9, 0.5, 0.99, niter=15)"
   ]
  },
  {
   "cell_type": "code",
   "execution_count": 237,
   "id": "bdebf059-cccb-4a67-b3b1-dd66ca683e8a",
   "metadata": {},
   "outputs": [
    {
     "data": {
      "text/plain": [
       "(np.float64(2.958642410580579),\n",
       " np.float64(67303.564453125),\n",
       " np.float64(0.07066649779863662),\n",
       " np.float64(2.344415376406221e-21))"
      ]
     },
     "execution_count": 237,
     "metadata": {},
     "output_type": "execute_result"
    }
   ],
   "source": [
    "poch(9, 0.5), poch(0.5, 9), poch(201, -0.5), poch(201, -9)"
   ]
  },
  {
   "cell_type": "code",
   "execution_count": 218,
   "id": "05b30045-9e29-40f6-99ac-bae3f52b25a1",
   "metadata": {},
   "outputs": [
    {
     "data": {
      "text/plain": [
       "<Axes: >"
      ]
     },
     "execution_count": 218,
     "metadata": {},
     "output_type": "execute_result"
    },
    {
     "data": {
      "image/png": "[encoded data removed]",
      "text/plain": [
       "<Figure size 640x480 with 1 Axes>"
      ]
     },
     "metadata": {},
     "output_type": "display_data"
    }
   ],
   "source": [
    "x = np.linspace(0, 1, 1001)\n",
    "actual = betainc_approx(a, b, x, niter=200)\n",
    "expect = betainc(a, b, x)\n",
    "\n",
    "import pandas as pd\n",
    "pd.Series(actual - expect, index=x).plot()"
   ]
  },
  {
   "cell_type": "code",
   "execution_count": 198,
   "id": "b6cd621b-0dfb-4f19-a4f0-50fc8e457c08",
   "metadata": {},
   "outputs": [
    {
     "data": {
      "text/plain": [
       "np.float64(3.885780586188048e-16)"
      ]
     },
     "execution_count": 198,
     "metadata": {},
     "output_type": "execute_result"
    }
   ],
   "source": [
    "np.abs(actual - expect).max()"
   ]
  },
  {
   "cell_type": "code",
   "execution_count": 56,
   "id": "48d59c42-6da0-4c94-ae20-a2ae2f1f2bd2",
   "metadata": {},
   "outputs": [
    {
     "data": {
      "text/plain": [
       "array([0.00000000e+00, 8.18384285e-15, 1.85255093e-13, ...,\n",
       "       8.39384293e-01, 8.51234362e-01, 8.63475784e-01], shape=(1001,))"
      ]
     },
     "execution_count": 56,
     "metadata": {},
     "output_type": "execute_result"
    }
   ],
   "source": [
    "bi = x**a * gamma(a + 1) * gamma(a + b) / a / gamma(a)**2 / gamma(1 - b) / gamma(b) * sum(\n",
    "    gamma(-b + n + 1) / gamma(n + 1) / (a + n) * x**n\n",
    "    for n in range(90)\n",
    ")\n",
    "bi"
   ]
  },
  {
   "cell_type": "code",
   "execution_count": 57,
   "id": "86264702-99a8-47ca-86a9-26cefdb7975f",
   "metadata": {},
   "outputs": [
    {
     "data": {
      "text/plain": [
       "array([0.00000000e+00, 8.18384285e-15, 1.85255093e-13, ...,\n",
       "       8.39384293e-01, 8.51234362e-01, 8.63475784e-01], shape=(1001,))"
      ]
     },
     "execution_count": 57,
     "metadata": {},
     "output_type": "execute_result"
    }
   ],
   "source": [
    "bi = x**a * np.sin(np.pi * b) * gamma(a + b) / gamma(a) / np.pi * sum(\n",
    "    gamma(-b + n + 1) / (a + n) / gamma(n + 1) * x**n\n",
    "    for n in range(90)\n",
    ")\n",
    "bi"
   ]
  },
  {
   "cell_type": "code",
   "execution_count": null,
   "id": "c2fcf8ae-97be-4063-939d-5bf43955cc68",
   "metadata": {},
   "outputs": [],
   "source": [
    "bi - y"
   ]
  },
  {
   "cell_type": "code",
   "execution_count": null,
   "id": "a2ef248f-c9c3-4d79-9bd4-8fdbf92d18b8",
   "metadata": {},
   "outputs": [],
   "source": [
    "bi - betainc(a, b, x)"
   ]
  },
  {
   "cell_type": "code",
   "execution_count": null,
   "id": "9813fca2-68be-4630-b6ae-296a9dad19a4",
   "metadata": {},
   "outputs": [],
   "source": [
    "(gamma(a + 1) * gamma(a + b) / a / gamma(a)**2 / gamma(1 - b) / gamma(b)).simplify()"
   ]
  },
  {
   "cell_type": "code",
   "execution_count": 141,
   "id": "4c02e9cb-91dc-47cd-ae02-0ae8e3a17614",
   "metadata": {},
   "outputs": [
    {
     "data": {
      "text/latex": [
       "$\\displaystyle \\frac{\\Gamma\\left(- b + n + 1\\right)}{\\left(a + n\\right) \\Gamma\\left(n + 1\\right)}$"
      ],
      "text/plain": [
       "gamma(-b + n + 1)/((a + n)*gamma(n + 1))"
      ]
     },
     "execution_count": 141,
     "metadata": {},
     "output_type": "execute_result"
    }
   ],
   "source": [
    "x = Symbol(\"x\")\n",
    "n = Symbol(\"n\")\n",
    "a = Symbol(\"a\")\n",
    "b = Symbol(\"b\")\n",
    "from sympy import gamma, factorial, sin, pi\n",
    "(gamma(a + n) * gamma(1 - b + n) / gamma(a + 1 + n) / factorial(n)).simplify()"
   ]
  },
  {
   "cell_type": "code",
   "execution_count": 139,
   "id": "917c88e7-4a84-47c1-991c-d0484105a04c",
   "metadata": {},
   "outputs": [
    {
     "data": {
      "text/latex": [
       "$\\displaystyle \\frac{\\sin{\\left(\\pi b \\right)} \\Gamma\\left(a + b\\right)}{\\pi \\Gamma\\left(a\\right)}$"
      ],
      "text/plain": [
       "sin(pi*b)*gamma(a + b)/(pi*gamma(a))"
      ]
     },
     "execution_count": 139,
     "metadata": {},
     "output_type": "execute_result"
    }
   ],
   "source": [
    "(gamma(a + b) / gamma(a) * sin(pi * b) / pi)"
   ]
  },
  {
   "cell_type": "code",
   "execution_count": null,
   "id": "3bbb0859-5974-4d5b-94a9-d6bc8f83fc47",
   "metadata": {},
   "outputs": [],
   "source": [
    "import jax\n",
    "import jax.numpy as jnp\n",
    "import numpy as np\n",
    "import pandas as pd\n",
    "import scipy.special\n",
    "\n",
    "jax.config.update(\"jax_enable_x64\", True)\n",
    "\n",
    "betainc = jax.jit(jax.scipy.special.betainc)\n",
    "betainc.clear_cache()\n",
    "\n",
    "a = 4.5\n",
    "b = 0.5\n",
    "\n",
    "columns = [\n",
    "    \"samples\",\n",
    "    \"scipy\", \n",
    "    \"jax cpu (cold jit)\",\n",
    "    \"jax cpu (warm jit)\",\n",
    "    \"jax gpu (cold jit)\",\n",
    "    \"jax gpu (warm jit)\",\n",
    "]\n",
    "rows = []\n",
    "for n in range(0, 8):\n",
    "    x = np.random.uniform(0, 1, 10**n)\n",
    "    jx_cpu = jnp.asarray(x, device=jax.devices(\"cpu\")[0]).block_until_ready()\n",
    "    jx_gpu = jnp.asarray(x, device=jax.devices(\"gpu\")[0]).block_until_ready()\n",
    "    t1 = %timeit -o -q -r 1 -n 1 scipy.special.betainc(a, b, x)\n",
    "    t2 = %timeit -o -q -r 1 -n 1 betainc(a, b, jx_cpu).block_until_ready()  # cold JIT\n",
    "    t3 = %timeit -o -q -r 1 -n 1 betainc(a, b, jx_cpu).block_until_ready()  # warm JIT\n",
    "    t4 = %timeit -o -q -r 1 -n 1 betainc(a, b, jx_gpu).block_until_ready()  # cold JIT\n",
    "    t5 = %timeit -o -q -r 1 -n 1 betainc(a, b, jx_gpu).block_until_ready()  # warm JIT\n",
    "    rows.append([10**n,t1.average,t2.average,t3.average,t4.average,t5.average])"
   ]
  },
  {
   "cell_type": "code",
   "execution_count": null,
   "id": "b6b897b2-7851-478a-a30f-1a0acaff25ee",
   "metadata": {},
   "outputs": [],
   "source": [
    "df = pd.DataFrame(rows, columns=columns).set_index(\"samples\")\n",
    "df"
   ]
  },
  {
   "cell_type": "code",
   "execution_count": null,
   "id": "db977dd0-0d81-41c4-9e44-fc61c846a3bf",
   "metadata": {},
   "outputs": [],
   "source": [
    "(df * 1000).plot(logx=True, logy=True, grid=True, ylabel=\"ms\")"
   ]
  },
  {
   "cell_type": "code",
   "execution_count": null,
   "id": "e9035884-9e29-4ceb-9098-07ea2b50d180",
   "metadata": {},
   "outputs": [],
   "source": [
    "@jax.jit\n",
    "def betainc2(a, b, x):\n",
    "    return x**a * jax.scipy.special.hyp2f1(a, 1 - b, a + 1, x) / a / jax.scipy.special.beta(a, b)\n",
    "\n",
    "beta = jax.jit(jax.scipy.special.beta)\n",
    "hyp2f1 = jax.jit(jax.scipy.special.hyp2f1)\n",
    "beta.clear_cache()\n",
    "hyp2f1.clear_cache()\n",
    "\n",
    "%timeit -n 1 -r 1 betainc(a, b, jx_gpu)\n",
    "%timeit -n 1 -r 1 actual = jx_gpu**a * hyp2f1(a, 1 - b, a + 1, jx_gpu) / a / beta(a, b)\n",
    "desired = betainc(a, b, x)"
   ]
  },
  {
   "cell_type": "code",
   "execution_count": null,
   "id": "f9e64fe5-3ab5-4a8c-a112-93d6d410a95c",
   "metadata": {},
   "outputs": [],
   "source": [
    "pandas.Series(actual - desired, index=x).sort_index().plot()"
   ]
  },
  {
   "cell_type": "code",
   "execution_count": null,
   "id": "754b46a8-c204-458d-a1d5-388f6918b558",
   "metadata": {},
   "outputs": [],
   "source": []
  }
 ],
 "metadata": {
  "kernelspec": {
   "display_name": "Python 3 (ipykernel)",
   "language": "python",
   "name": "python3"
  },
  "language_info": {
   "codemirror_mode": {
    "name": "ipython",
    "version": 3
   },
   "file_extension": ".py",
   "mimetype": "text/x-python",
   "name": "python",
   "nbconvert_exporter": "python",
   "pygments_lexer": "ipython3",
   "version": "3.12.10"
  }
 },
 "nbformat": 4,
 "nbformat_minor": 5
}
